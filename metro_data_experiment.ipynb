{
 "cells": [
  {
   "cell_type": "code",
   "execution_count": 3,
   "metadata": {
    "collapsed": true,
    "pycharm": {
     "is_executing": false
    }
   },
   "outputs": [],
   "source": [
    "#Framework for performing the experiments for the metro data set"
   ]
  },
  {
   "cell_type": "code",
   "execution_count": 1,
   "outputs": [],
   "source": [
    "import pandas as pd\n",
    "from sklearn import linear_model, tree, neural_network, preprocessing\n",
    "import numpy as np\n",
    "import random\n",
    "import math\n",
    "from datetime import datetime\n",
    "from matplotlib import pyplot as plt\n",
    "import copy\n",
    "import pydot\n",
    "import graphviz"
   ],
   "metadata": {
    "collapsed": false,
    "pycharm": {
     "name": "#%%\n",
     "is_executing": false
    }
   }
  },
  {
   "cell_type": "code",
   "execution_count": 2,
   "outputs": [
    {
     "name": "stdout",
     "text": [
      "[[8.3200e+02 7.0000e+00 2.8975e+02 ... 5.0000e+00 2.0170e+03 4.0000e+00]\n [2.3970e+03 7.0000e+00 2.6756e+02 ... 1.2000e+01 2.0130e+03 1.2000e+01]\n [4.2660e+03 7.0000e+00 2.8150e+02 ... 1.0000e+01 2.0170e+03 1.0000e+01]\n ...\n [5.7280e+03 7.0000e+00 2.7508e+02 ... 1.0000e+00 2.0170e+03 8.0000e+00]\n [1.4420e+03 7.0000e+00 2.7753e+02 ... 4.0000e+00 2.0160e+03 6.0000e+00]\n [2.9100e+02 7.0000e+00 2.5277e+02 ... 2.0000e+00 2.0130e+03 2.0000e+00]]\n"
     ],
     "output_type": "stream"
    }
   ],
   "source": [
    "ord_enc = preprocessing.OrdinalEncoder()\n",
    "#Import the data set and remove the rows with missing values\n",
    "metro_data = pd.read_csv('datasets/Metro_Interstate_Traffic_Volume.csv')\n",
    "\n",
    "#transform the categorical holiday variable into a encoded variable.\n",
    "metro_data[\"holiday\"] = ord_enc.fit_transform(metro_data[[\"holiday\"]])\n",
    "# print(metro_data[\"holiday\"].value_counts())\n",
    "\n",
    "\n",
    "metro_data[\"weather_main\"] = ord_enc.fit_transform(metro_data[[\"weather_main\"]])\n",
    "# print(metro_data[\"weather_main\"].value_counts())\n",
    "\n",
    "metro_data[\"weather_description\"] = ord_enc.fit_transform(metro_data[[\"weather_description\"]])\n",
    "# print(metro_data[\"weather_description\"].value_counts())\n",
    "\n",
    "# metro_data[\"date_time\"] = ord_enc.fit_transform()\n",
    "# print(metro_data[\"weather_description\"].value_counts())\n",
    "metro_data['time'] = pd.to_datetime(metro_data['date_time']).dt.time\n",
    "metro_data['time'] = ord_enc.fit_transform(metro_data[['time']])\n",
    "# print(metro_data['time'].value_counts())\n",
    "# metro_data[]\n",
    "metro_data['day'] = pd.to_datetime(metro_data['date_time']).dt.day\n",
    "metro_data['month'] = pd.to_datetime(metro_data['date_time']).dt.month\n",
    "metro_data['year'] = pd.to_datetime(metro_data['date_time']).dt.year\n",
    "metro_data.drop('date_time', axis=1)\n",
    "\n",
    "# print(metro_data)\n",
    "featurenames = ['traffic_volume',\n",
    "                        'holiday',\n",
    "                        'temp', #this one\n",
    "                        'rain_1h', #this one\n",
    "                        'snow_1h', #this one\n",
    "                        'clouds_all',\n",
    "                        'weather_main',\n",
    "                        'weather_description',\n",
    "                        'day',\n",
    "                        'month',\n",
    "                        'year',\n",
    "                        'time']\n",
    "metro_data = metro_data[featurenames]\n",
    "# print(metro_data)\n",
    "npdata = metro_data.to_numpy()\n",
    "rng1 = np.random.default_rng(12345)\n",
    "npdata = rng1.choice(npdata, 10000)\n",
    "print(npdata)"
   ],
   "metadata": {
    "collapsed": false,
    "pycharm": {
     "name": "#%%\n",
     "is_executing": false
    }
   }
  },
  {
   "cell_type": "code",
   "execution_count": 6,
   "outputs": [
    {
     "traceback": [
      "\u001b[1;31m---------------------------------------------------------------------------\u001b[0m",
      "\u001b[1;31mFileNotFoundError\u001b[0m                         Traceback (most recent call last)",
      "\u001b[1;32mc:\\users\\plfro\\pycharmprojects\\research project\\venv\\lib\\site-packages\\pydot.py\u001b[0m in \u001b[0;36mcreate\u001b[1;34m(self, prog, format, encoding)\u001b[0m\n\u001b[0;32m   1925\u001b[0m                 \u001b[0marguments\u001b[0m\u001b[1;33m=\u001b[0m\u001b[0marguments\u001b[0m\u001b[1;33m,\u001b[0m\u001b[1;33m\u001b[0m\u001b[1;33m\u001b[0m\u001b[0m\n\u001b[1;32m-> 1926\u001b[1;33m                 \u001b[0mworking_dir\u001b[0m\u001b[1;33m=\u001b[0m\u001b[0mtmp_dir\u001b[0m\u001b[1;33m,\u001b[0m\u001b[1;33m\u001b[0m\u001b[1;33m\u001b[0m\u001b[0m\n\u001b[0m\u001b[0;32m   1927\u001b[0m             )\n",
      "\u001b[1;32mc:\\users\\plfro\\pycharmprojects\\research project\\venv\\lib\\site-packages\\pydot.py\u001b[0m in \u001b[0;36mcall_graphviz\u001b[1;34m(program, arguments, working_dir, **kwargs)\u001b[0m\n\u001b[0;32m    138\u001b[0m         \u001b[0mstdout\u001b[0m\u001b[1;33m=\u001b[0m\u001b[0msubprocess\u001b[0m\u001b[1;33m.\u001b[0m\u001b[0mPIPE\u001b[0m\u001b[1;33m,\u001b[0m\u001b[1;33m\u001b[0m\u001b[1;33m\u001b[0m\u001b[0m\n\u001b[1;32m--> 139\u001b[1;33m         \u001b[1;33m**\u001b[0m\u001b[0mkwargs\u001b[0m\u001b[1;33m\u001b[0m\u001b[1;33m\u001b[0m\u001b[0m\n\u001b[0m\u001b[0;32m    140\u001b[0m     )\n",
      "\u001b[1;32mC:\\Python36\\lib\\subprocess.py\u001b[0m in \u001b[0;36m__init__\u001b[1;34m(self, args, bufsize, executable, stdin, stdout, stderr, preexec_fn, close_fds, shell, cwd, env, universal_newlines, startupinfo, creationflags, restore_signals, start_new_session, pass_fds, encoding, errors)\u001b[0m\n\u001b[0;32m    728\u001b[0m                                 \u001b[0merrread\u001b[0m\u001b[1;33m,\u001b[0m \u001b[0merrwrite\u001b[0m\u001b[1;33m,\u001b[0m\u001b[1;33m\u001b[0m\u001b[1;33m\u001b[0m\u001b[0m\n\u001b[1;32m--> 729\u001b[1;33m                                 restore_signals, start_new_session)\n\u001b[0m\u001b[0;32m    730\u001b[0m         \u001b[1;32mexcept\u001b[0m\u001b[1;33m:\u001b[0m\u001b[1;33m\u001b[0m\u001b[1;33m\u001b[0m\u001b[0m\n",
      "\u001b[1;32mC:\\Python36\\lib\\subprocess.py\u001b[0m in \u001b[0;36m_execute_child\u001b[1;34m(self, args, executable, preexec_fn, close_fds, pass_fds, cwd, env, startupinfo, creationflags, shell, p2cread, p2cwrite, c2pread, c2pwrite, errread, errwrite, unused_restore_signals, unused_start_new_session)\u001b[0m\n\u001b[0;32m   1016\u001b[0m                                          \u001b[0mos\u001b[0m\u001b[1;33m.\u001b[0m\u001b[0mfspath\u001b[0m\u001b[1;33m(\u001b[0m\u001b[0mcwd\u001b[0m\u001b[1;33m)\u001b[0m \u001b[1;32mif\u001b[0m \u001b[0mcwd\u001b[0m \u001b[1;32mis\u001b[0m \u001b[1;32mnot\u001b[0m \u001b[1;32mNone\u001b[0m \u001b[1;32melse\u001b[0m \u001b[1;32mNone\u001b[0m\u001b[1;33m,\u001b[0m\u001b[1;33m\u001b[0m\u001b[1;33m\u001b[0m\u001b[0m\n\u001b[1;32m-> 1017\u001b[1;33m                                          startupinfo)\n\u001b[0m\u001b[0;32m   1018\u001b[0m             \u001b[1;32mfinally\u001b[0m\u001b[1;33m:\u001b[0m\u001b[1;33m\u001b[0m\u001b[1;33m\u001b[0m\u001b[0m\n",
      "\u001b[1;31mFileNotFoundError\u001b[0m: [WinError 2] The system cannot find the file specified",
      "\nDuring handling of the above exception, another exception occurred:\n",
      "\u001b[1;31mFileNotFoundError\u001b[0m                         Traceback (most recent call last)",
      "\u001b[1;32m<ipython-input-6-abe87b430162>\u001b[0m in \u001b[0;36m<module>\u001b[1;34m\u001b[0m\n\u001b[0;32m     44\u001b[0m             \u001b[0mdot_data\u001b[0m \u001b[1;33m=\u001b[0m \u001b[0mtree\u001b[0m\u001b[1;33m.\u001b[0m\u001b[0mexport_graphviz\u001b[0m\u001b[1;33m(\u001b[0m\u001b[0mclf\u001b[0m\u001b[1;33m,\u001b[0m \u001b[0mout_file\u001b[0m\u001b[1;33m=\u001b[0m\u001b[1;34m'tree.dot'\u001b[0m\u001b[1;33m)\u001b[0m\u001b[1;33m\u001b[0m\u001b[1;33m\u001b[0m\u001b[0m\n\u001b[0;32m     45\u001b[0m             \u001b[1;33m(\u001b[0m\u001b[0mgraph\u001b[0m\u001b[1;33m,\u001b[0m\u001b[1;33m)\u001b[0m \u001b[1;33m=\u001b[0m \u001b[0mpydot\u001b[0m\u001b[1;33m.\u001b[0m\u001b[0mgraph_from_dot_file\u001b[0m\u001b[1;33m(\u001b[0m\u001b[1;34m'tree.dot'\u001b[0m\u001b[1;33m)\u001b[0m\u001b[1;33m\u001b[0m\u001b[1;33m\u001b[0m\u001b[0m\n\u001b[1;32m---> 46\u001b[1;33m             \u001b[0mgraph\u001b[0m\u001b[1;33m.\u001b[0m\u001b[0mwrite_png\u001b[0m\u001b[1;33m(\u001b[0m\u001b[1;34m'treeeeeee.png'\u001b[0m\u001b[1;33m)\u001b[0m\u001b[1;33m\u001b[0m\u001b[1;33m\u001b[0m\u001b[0m\n\u001b[0m\u001b[0;32m     47\u001b[0m             \u001b[0mprediction_mpg\u001b[0m \u001b[1;33m=\u001b[0m \u001b[0mclf\u001b[0m\u001b[1;33m.\u001b[0m\u001b[0mpredict\u001b[0m\u001b[1;33m(\u001b[0m\u001b[0mnormalized_test_X\u001b[0m\u001b[1;33m)\u001b[0m\u001b[1;33m\u001b[0m\u001b[1;33m\u001b[0m\u001b[0m\n\u001b[0;32m     48\u001b[0m             \u001b[0mresults\u001b[0m\u001b[1;33m[\u001b[0m\u001b[0mi\u001b[0m\u001b[1;33m]\u001b[0m \u001b[1;33m=\u001b[0m \u001b[0mprediction_mpg\u001b[0m\u001b[1;33m\u001b[0m\u001b[1;33m\u001b[0m\u001b[0m\n",
      "\u001b[1;32mc:\\users\\plfro\\pycharmprojects\\research project\\venv\\lib\\site-packages\\pydot.py\u001b[0m in \u001b[0;36mnew_method\u001b[1;34m(path, f, prog, encoding)\u001b[0m\n\u001b[0;32m   1743\u001b[0m                 self.write(\n\u001b[0;32m   1744\u001b[0m                     \u001b[0mpath\u001b[0m\u001b[1;33m,\u001b[0m \u001b[0mformat\u001b[0m\u001b[1;33m=\u001b[0m\u001b[0mf\u001b[0m\u001b[1;33m,\u001b[0m \u001b[0mprog\u001b[0m\u001b[1;33m=\u001b[0m\u001b[0mprog\u001b[0m\u001b[1;33m,\u001b[0m\u001b[1;33m\u001b[0m\u001b[1;33m\u001b[0m\u001b[0m\n\u001b[1;32m-> 1745\u001b[1;33m                     encoding=encoding)\n\u001b[0m\u001b[0;32m   1746\u001b[0m             \u001b[0mname\u001b[0m \u001b[1;33m=\u001b[0m \u001b[1;34m'write_{fmt}'\u001b[0m\u001b[1;33m.\u001b[0m\u001b[0mformat\u001b[0m\u001b[1;33m(\u001b[0m\u001b[0mfmt\u001b[0m\u001b[1;33m=\u001b[0m\u001b[0mfrmt\u001b[0m\u001b[1;33m)\u001b[0m\u001b[1;33m\u001b[0m\u001b[1;33m\u001b[0m\u001b[0m\n\u001b[0;32m   1747\u001b[0m             \u001b[0mself\u001b[0m\u001b[1;33m.\u001b[0m\u001b[0m__setattr__\u001b[0m\u001b[1;33m(\u001b[0m\u001b[0mname\u001b[0m\u001b[1;33m,\u001b[0m \u001b[0mnew_method\u001b[0m\u001b[1;33m)\u001b[0m\u001b[1;33m\u001b[0m\u001b[1;33m\u001b[0m\u001b[0m\n",
      "\u001b[1;32mc:\\users\\plfro\\pycharmprojects\\research project\\venv\\lib\\site-packages\\pydot.py\u001b[0m in \u001b[0;36mwrite\u001b[1;34m(self, path, prog, format, encoding)\u001b[0m\n\u001b[0;32m   1826\u001b[0m                 \u001b[0mf\u001b[0m\u001b[1;33m.\u001b[0m\u001b[0mwrite\u001b[0m\u001b[1;33m(\u001b[0m\u001b[0ms\u001b[0m\u001b[1;33m)\u001b[0m\u001b[1;33m\u001b[0m\u001b[1;33m\u001b[0m\u001b[0m\n\u001b[0;32m   1827\u001b[0m         \u001b[1;32melse\u001b[0m\u001b[1;33m:\u001b[0m\u001b[1;33m\u001b[0m\u001b[1;33m\u001b[0m\u001b[0m\n\u001b[1;32m-> 1828\u001b[1;33m             \u001b[0ms\u001b[0m \u001b[1;33m=\u001b[0m \u001b[0mself\u001b[0m\u001b[1;33m.\u001b[0m\u001b[0mcreate\u001b[0m\u001b[1;33m(\u001b[0m\u001b[0mprog\u001b[0m\u001b[1;33m,\u001b[0m \u001b[0mformat\u001b[0m\u001b[1;33m,\u001b[0m \u001b[0mencoding\u001b[0m\u001b[1;33m=\u001b[0m\u001b[0mencoding\u001b[0m\u001b[1;33m)\u001b[0m\u001b[1;33m\u001b[0m\u001b[1;33m\u001b[0m\u001b[0m\n\u001b[0m\u001b[0;32m   1829\u001b[0m             \u001b[1;32mwith\u001b[0m \u001b[0mio\u001b[0m\u001b[1;33m.\u001b[0m\u001b[0mopen\u001b[0m\u001b[1;33m(\u001b[0m\u001b[0mpath\u001b[0m\u001b[1;33m,\u001b[0m \u001b[0mmode\u001b[0m\u001b[1;33m=\u001b[0m\u001b[1;34m'wb'\u001b[0m\u001b[1;33m)\u001b[0m \u001b[1;32mas\u001b[0m \u001b[0mf\u001b[0m\u001b[1;33m:\u001b[0m\u001b[1;33m\u001b[0m\u001b[1;33m\u001b[0m\u001b[0m\n\u001b[0;32m   1830\u001b[0m                 \u001b[0mf\u001b[0m\u001b[1;33m.\u001b[0m\u001b[0mwrite\u001b[0m\u001b[1;33m(\u001b[0m\u001b[0ms\u001b[0m\u001b[1;33m)\u001b[0m\u001b[1;33m\u001b[0m\u001b[1;33m\u001b[0m\u001b[0m\n",
      "\u001b[1;32mc:\\users\\plfro\\pycharmprojects\\research project\\venv\\lib\\site-packages\\pydot.py\u001b[0m in \u001b[0;36mcreate\u001b[1;34m(self, prog, format, encoding)\u001b[0m\n\u001b[0;32m   1931\u001b[0m                 args[1] = '\"{prog}\" not found in path.'.format(\n\u001b[0;32m   1932\u001b[0m                     prog=prog)\n\u001b[1;32m-> 1933\u001b[1;33m                 \u001b[1;32mraise\u001b[0m \u001b[0mOSError\u001b[0m\u001b[1;33m(\u001b[0m\u001b[1;33m*\u001b[0m\u001b[0margs\u001b[0m\u001b[1;33m)\u001b[0m\u001b[1;33m\u001b[0m\u001b[1;33m\u001b[0m\u001b[0m\n\u001b[0m\u001b[0;32m   1934\u001b[0m             \u001b[1;32melse\u001b[0m\u001b[1;33m:\u001b[0m\u001b[1;33m\u001b[0m\u001b[1;33m\u001b[0m\u001b[0m\n\u001b[0;32m   1935\u001b[0m                 \u001b[1;32mraise\u001b[0m\u001b[1;33m\u001b[0m\u001b[1;33m\u001b[0m\u001b[0m\n",
      "\u001b[1;31mFileNotFoundError\u001b[0m: [WinError 2] \"dot\" not found in path."
     ],
     "ename": "FileNotFoundError",
     "evalue": "[WinError 2] \"dot\" not found in path.",
     "output_type": "error"
    }
   ],
   "source": [
    "random.seed(50)\n",
    "test_indices = np.unique(np.array([random.randint(0,npdata.shape[0]-1) for k in range(0,math.ceil(0.2*npdata.shape[0]))]))\n",
    "# print(test_indices)\n",
    "test_data = npdata[test_indices, :]\n",
    "test_X = test_data[:,1:]\n",
    "test_transformer = preprocessing.MinMaxScaler().fit(test_X)\n",
    "normalized_test_X = test_transformer.transform(test_X)\n",
    "real_mpg = test_data[:, 0]\n",
    "\n",
    "mu = 0\n",
    "features = [[1]]\n",
    "# features = [[1], [2], [3], [1,2], [1,3], [2,3], [1,2,3]] \n",
    "input_variances = np.arange(0.00,0.02,0.01)\n",
    "iterations = 1\n",
    "\n",
    "results = np.zeros([iterations, test_X.shape[0]])\n",
    "output_variances = np.zeros(input_variances.size)\n",
    "plot_matrix = np.zeros([len(features), input_variances.size])\n",
    "\n",
    "for j in range(0, len(features)):\n",
    "    k = 0\n",
    "    for sig in input_variances:\n",
    "        rng = np.random.default_rng(12345)\n",
    "        for i in range(0, iterations):\n",
    "            data = copy.deepcopy(npdata)\n",
    "            training_data = np.delete(data, test_indices, axis=0)\n",
    "            rows = training_data.shape[0]\n",
    "            noise_indices = rng.choice(rows-1, math.ceil(0.1*rows), replace=False)\n",
    "            training_X = training_data[:, 1:]\n",
    "            training_transformer = preprocessing.StandardScaler().fit(training_X)\n",
    "            normalized_training_X = training_transformer.transform(training_X)\n",
    "            for el in features[j]:\n",
    "                noises = rng.normal(mu, sig, noise_indices.shape)\n",
    "                normalized_training_X[noise_indices, el] += noises\n",
    "            training_y = training_data[:, 0]\n",
    "            ######################################################### LINEAR REGRESSION\n",
    "            # clf = linear_model.LinearRegression()\n",
    "            ######################################################### DECISION TREE\n",
    "            clf = tree.DecisionTreeRegressor(random_state=42)\n",
    "            ######################################################### NEURAL NET\n",
    "            # clf = neural_network.MLPRegressor(random_state=42, max_iter=500)\n",
    "            #########################################################\n",
    "            clf = clf.fit(normalized_training_X, training_y)\n",
    "            dot_data = tree.export_graphviz(clf, out_file='tree.dot')\n",
    "            (graph,) = pydot.graph_from_dot_file('tree.dot')\n",
    "            graph.write_png('treeeeeee.png')\n",
    "            prediction_mpg = clf.predict(normalized_test_X)\n",
    "            results[i] = prediction_mpg\n",
    "        variances = np.array([np.var(results[:, k]) for k in range(0, results.shape[1])])\n",
    "        mean_output_variance = np.mean(variances)\n",
    "        print(mean_output_variance)\n",
    "        output_variances[k] = mean_output_variance\n",
    "        plot_matrix[j] = output_variances\n",
    "        k += 1\n",
    "# print(output_variances)\n",
    "print(\"done\")\n",
    "now = datetime.now()\n",
    "timestamp = datetime.timestamp(now)\n",
    "experiment_name = \"lin reg extra\"\n",
    "path = 'results/metro/'\n",
    "np.savetxt(path + experiment_name + str(timestamp) + '.csv', plot_matrix, delimiter=\",\")"
   ],
   "metadata": {
    "collapsed": false,
    "pycharm": {
     "name": "#%%\n",
     "is_executing": false
    }
   }
  },
  {
   "cell_type": "code",
   "execution_count": null,
   "outputs": [],
   "source": [
    "#Plot the outcomes\n",
    "t=0\n",
    "plot_matrix[:,1] = plot_matrix[:,2]\n",
    "for arr in plot_matrix:\n",
    "    plt.plot(input_variances, arr, label=\"line \" + str(features[t]))\n",
    "    t+=1\n",
    "plt.xlabel('input variance')\n",
    "plt.ylabel('output variance')\n",
    "plt.legend()\n",
    "plt.savefig(path + experiment_name + str(timestamp) + '.png')\n",
    "plt.show()\n"
   ],
   "metadata": {
    "collapsed": false,
    "pycharm": {
     "name": "#%%\n",
     "is_executing": false
    }
   }
  },
  {
   "cell_type": "code",
   "execution_count": null,
   "outputs": [],
   "source": [
    "# random.seed(50)\n",
    "# test_indices = np.unique(np.array([random.randint(0,npdata.shape[0]-1) for k in range(0,1000)]))\n",
    "# # print(test_indices)\n",
    "# test_data = npdata[test_indices, :]\n",
    "# test_X = test_data[:,1:]\n",
    "# real_mpg = test_data[:, 0]\n",
    "# training_data = np.delete(npdata, test_indices, axis=0)\n",
    "# training_X = training_data[:, 1:]\n",
    "# training_y = training_data[:, 0]\n",
    "# # clf = linear_model.LinearRegression()\n",
    "# # clf = tree.DecisionTreeRegressor(random_state=42)\n",
    "# clf = neural_network.MLPRegressor(random_state=42, max_iter=500)\n",
    "# clf = clf.fit(training_X, training_y)\n",
    "# prediction_mpg = clf.predict(test_X)\n",
    "# print(prediction_mpg-real_mpg)\n",
    "\n"
   ],
   "metadata": {
    "collapsed": false,
    "pycharm": {
     "name": "#%%\n",
     "is_executing": false
    }
   }
  }
 ],
 "metadata": {
  "kernelspec": {
   "display_name": "Python 3",
   "language": "python",
   "name": "python3"
  },
  "language_info": {
   "codemirror_mode": {
    "name": "ipython",
    "version": 2
   },
   "file_extension": ".py",
   "mimetype": "text/x-python",
   "name": "python",
   "nbconvert_exporter": "python",
   "pygments_lexer": "ipython2",
   "version": "2.7.6"
  },
  "pycharm": {
   "stem_cell": {
    "cell_type": "raw",
    "source": [],
    "metadata": {
     "collapsed": false
    }
   }
  }
 },
 "nbformat": 4,
 "nbformat_minor": 0
}