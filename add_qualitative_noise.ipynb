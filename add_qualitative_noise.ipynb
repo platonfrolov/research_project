{
 "cells": [
  {
   "cell_type": "code",
   "execution_count": 149,
   "metadata": {
    "collapsed": true,
    "pycharm": {
     "is_executing": false
    }
   },
   "outputs": [],
   "source": [
    "import pandas as pd\n",
    "import numpy as np\n",
    "import random\n",
    "import math\n",
    "import copy"
   ]
  },
  {
   "cell_type": "code",
   "execution_count": 150,
   "outputs": [],
   "source": [
    "car_data = pd.read_table('datasets/car/car-original.data', header=None, delim_whitespace=True)\n",
    "# car_data_without_name = car_data.iloc[:,:-1]\n",
    "df = car_data.apply (pd.to_numeric, errors='coerce')\n",
    "clean_data = df = df.dropna()\n",
    "clean_data.reset_index(drop=True)\n",
    "npdata = clean_data.to_numpy()\n",
    "rows = npdata.shape[0]"
   ],
   "metadata": {
    "collapsed": false,
    "pycharm": {
     "name": "#%%\n",
     "is_executing": false
    }
   }
  },
  {
   "cell_type": "code",
   "execution_count": 163,
   "outputs": [],
   "source": [
    "mu = 0\n",
    "sd = 10\n",
    "\n",
    "for i in range (1, 21):\n",
    "    \n",
    "    filename = 'datasets/car/dp-perturbations/variance-10/car-corrupted-dp-var10-' + str(i) + '-.data'\n",
    "    np.savetxt(filename, data, delimiter='    ')"
   ],
   "metadata": {
    "collapsed": false,
    "pycharm": {
     "name": "#%%\n",
     "is_executing": false
    }
   }
  },
  {
   "cell_type": "code",
   "execution_count": null,
   "outputs": [],
   "source": [
    "\n"
   ],
   "metadata": {
    "collapsed": false,
    "pycharm": {
     "name": "#%%\n"
    }
   }
  }
 ],
 "metadata": {
  "kernelspec": {
   "display_name": "Python 3",
   "language": "python",
   "name": "python3"
  },
  "language_info": {
   "codemirror_mode": {
    "name": "ipython",
    "version": 2
   },
   "file_extension": ".py",
   "mimetype": "text/x-python",
   "name": "python",
   "nbconvert_exporter": "python",
   "pygments_lexer": "ipython2",
   "version": "2.7.6"
  },
  "pycharm": {
   "stem_cell": {
    "cell_type": "raw",
    "source": [],
    "metadata": {
     "collapsed": false
    }
   }
  }
 },
 "nbformat": 4,
 "nbformat_minor": 0
}