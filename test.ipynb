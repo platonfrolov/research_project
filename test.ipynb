{
 "cells": [
  {
   "cell_type": "code",
   "execution_count": 390,
   "outputs": [],
   "source": [
    "import pandas as pd\n",
    "from sklearn import neural_network, tree, linear_model\n",
    "import numpy as np\n",
    "import random\n",
    "import os\n",
    "import copy\n",
    "import math"
   ],
   "metadata": {
    "collapsed": false,
    "pycharm": {
     "name": "#%%\n",
     "is_executing": false
    }
   }
  },
  {
   "cell_type": "code",
   "execution_count": 391,
   "outputs": [
    {
     "name": "stdout",
     "text": [
      "        0    1      2      3       4     5     6    7\n0    18.0  8.0  307.0  130.0  3504.0  12.0  70.0  1.0\n1    15.0  8.0  350.0  165.0  3693.0  11.5  70.0  1.0\n2    18.0  8.0  318.0  150.0  3436.0  11.0  70.0  1.0\n3    16.0  8.0  304.0  150.0  3433.0  12.0  70.0  1.0\n4    17.0  8.0  302.0  140.0  3449.0  10.5  70.0  1.0\n..    ...  ...    ...    ...     ...   ...   ...  ...\n387  27.0  4.0  140.0   86.0  2790.0  15.6  82.0  1.0\n388  44.0  4.0   97.0   52.0  2130.0  24.6  82.0  2.0\n389  32.0  4.0  135.0   84.0  2295.0  11.6  82.0  1.0\n390  28.0  4.0  120.0   79.0  2625.0  18.6  82.0  1.0\n391  31.0  4.0  119.0   82.0  2720.0  19.4  82.0  1.0\n\n[392 rows x 8 columns]\n"
     ],
     "output_type": "stream"
    }
   ],
   "source": [
    "#Import the data set and remove the rows with missing values\n",
    "car_data = pd.read_table('datasets/car/car-original.data', header=None, delim_whitespace=True)\n",
    "df = car_data.apply (pd.to_numeric, errors='coerce')\n",
    "print(df)\n",
    "clean_data = df = df.dropna()\n",
    "clean_data.reset_index(drop=True)\n",
    "npdata = clean_data.to_numpy()\n"
   ],
   "metadata": {
    "collapsed": false,
    "pycharm": {
     "name": "#%%\n",
     "is_executing": false
    }
   }
  },
  {
   "cell_type": "code",
   "execution_count": 395,
   "outputs": [
    {
     "name": "stdout",
     "text": [
      "[12.6519821  17.14515546 17.2720639  12.31046686 10.0385152  19.19143009\n 14.76948742 16.3117383  35.47639737 40.87486733 12.1128318  24.67352031\n 22.30869023 30.39618842 36.95112534 20.9441004  20.07933985 16.66390595\n 12.97819577 20.80373879 22.59460642 20.58376186 24.96716167 33.80674442\n 35.3575211  38.63779938 26.20699118 20.62439312 26.61993513 18.92628459\n 24.63065147 20.60107014 36.73951815 28.64860843 22.97820438 23.6525535\n 16.22786197 28.6722862  27.89881505 18.19632367 34.99025167 33.45335106\n 38.83827294 37.07224494 24.28166147 25.64663098 36.96510685 37.04113766\n 19.59608151 18.98891951 24.66808689 27.01521252 32.90592975 35.58174061\n 23.14444585 33.74736321 32.04050075 27.65592892 19.1053233  21.19199478\n 29.8078577  28.93592771 14.37476788 16.31396994 13.12869891 27.11528844\n 38.22950651 38.68900797 28.74563648 16.90364202 15.50086391 18.93851634\n 31.98707569  2.18149328 30.10483751 25.54562196 18.2768908  23.18373257\n 27.9353488  35.07037676 39.72183246 44.58506135 15.97425602 24.58584736\n 21.4260048  17.20286636 13.82678372  8.88452391 32.216332   13.51173779\n 29.99099668 13.41387961 16.63875351 22.00582716 17.70463979  3.30374452\n  3.30105926 21.39723189 28.30599283  0.90177285 15.69438393 19.6105819\n 35.43006505 22.56538061 24.23391575 10.55187316 13.90936987 14.83685362\n 22.16588485 16.64116934 16.02272854 18.91136517 22.13303065 31.63982657\n 27.10921597 27.91518015 16.81687192 10.25356297  3.53134571]\n"
     ],
     "output_type": "stream"
    }
   ],
   "source": [
    "# print(real_mpg)\n",
    "random.seed(50)\n",
    "test_indices = np.unique(np.array([random.randint(0,npdata.shape[0]-1) for k in range(0,150)]))\n",
    "test_data = npdata[test_indices, :]\n",
    "test_X = test_data[:,1:]\n",
    "real_mpg = test_data[:, 0]\n",
    "training_data = np.delete(npdata, test_indices, axis=0)\n",
    "training_X = training_data[:, 1:]\n",
    "training_y = training_data[:, 0]\n",
    "# clf = linear_model.LinearRegression()\n",
    "# clf = tree.DecisionTreeRegressor(random_state=42)\n",
    "clf = neural_network.MLPRegressor(random_state=42, max_iter=500)\n",
    "clf = clf.fit(training_X, training_y)\n",
    "prediction_mpg = clf.predict(test_X)\n"
   ],
   "metadata": {
    "collapsed": false,
    "pycharm": {
     "name": "#%%\n",
     "is_executing": false
    }
   }
  },
  {
   "cell_type": "code",
   "execution_count": 392,
   "outputs": [],
   "source": [],
   "metadata": {
    "collapsed": false,
    "pycharm": {
     "name": "#%%\n",
     "is_executing": false
    }
   }
  }
 ],
 "metadata": {
  "kernelspec": {
   "display_name": "Python 3",
   "language": "python",
   "name": "python3"
  },
  "language_info": {
   "codemirror_mode": {
    "name": "ipython",
    "version": 2
   },
   "file_extension": ".py",
   "mimetype": "text/x-python",
   "name": "python",
   "nbconvert_exporter": "python",
   "pygments_lexer": "ipython2",
   "version": "2.7.6"
  },
  "pycharm": {
   "stem_cell": {
    "cell_type": "raw",
    "source": [],
    "metadata": {
     "collapsed": false
    }
   }
  }
 },
 "nbformat": 4,
 "nbformat_minor": 0
}