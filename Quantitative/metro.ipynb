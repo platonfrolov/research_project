{
 "cells": [
  {
   "cell_type": "code",
   "execution_count": 5,
   "metadata": {
    "collapsed": true,
    "pycharm": {
     "is_executing": false
    }
   },
   "outputs": [],
   "source": []
  },
  {
   "cell_type": "code",
   "execution_count": 6,
   "outputs": [],
   "source": [
    "import pandas as pd\n",
    "from sklearn import linear_model, tree, neural_network, preprocessing\n",
    "import numpy as np\n",
    "import random\n",
    "import math\n",
    "from datetime import datetime\n",
    "from matplotlib import pyplot as plt\n",
    "import copy"
   ],
   "metadata": {
    "collapsed": false,
    "pycharm": {
     "name": "#%%\n",
     "is_executing": false
    }
   }
  },
  {
   "cell_type": "code",
   "execution_count": 7,
   "outputs": [
    {
     "name": "stdout",
     "text": [
      "[[8.3200e+02 7.0000e+00 2.8975e+02 ... 5.0000e+00 2.0170e+03 4.0000e+00]\n [2.3970e+03 7.0000e+00 2.6756e+02 ... 1.2000e+01 2.0130e+03 1.2000e+01]\n [4.2660e+03 7.0000e+00 2.8150e+02 ... 1.0000e+01 2.0170e+03 1.0000e+01]\n ...\n [3.3000e+02 7.0000e+00 2.9049e+02 ... 6.0000e+00 2.0150e+03 2.0000e+00]\n [3.8380e+03 7.0000e+00 3.0058e+02 ... 8.0000e+00 2.0170e+03 1.8000e+01]\n [5.2070e+03 7.0000e+00 2.7649e+02 ... 4.0000e+00 2.0170e+03 1.4000e+01]]\n"
     ],
     "output_type": "stream"
    }
   ],
   "source": [
    "ord_enc = preprocessing.OrdinalEncoder()\n",
    "#Import the data set and remove the rows with missing values\n",
    "metro_data = pd.read_csv('../datasets/Metro_Interstate_Traffic_Volume.csv')\n",
    "\n",
    "#transform the categorical holiday variable into a encoded variable.\n",
    "metro_data[\"holiday\"] = ord_enc.fit_transform(metro_data[[\"holiday\"]])\n",
    "# print(metro_data[\"holiday\"].value_counts())\n",
    "\n",
    "\n",
    "metro_data[\"weather_main\"] = ord_enc.fit_transform(metro_data[[\"weather_main\"]])\n",
    "# print(metro_data[\"weather_main\"].value_counts())\n",
    "\n",
    "metro_data[\"weather_description\"] = ord_enc.fit_transform(metro_data[[\"weather_description\"]])\n",
    "# print(metro_data[\"weather_description\"].value_counts())\n",
    "\n",
    "# metro_data[\"date_time\"] = ord_enc.fit_transform()\n",
    "# print(metro_data[\"weather_description\"].value_counts())\n",
    "metro_data['time'] = pd.to_datetime(metro_data['date_time']).dt.time\n",
    "metro_data['time'] = ord_enc.fit_transform(metro_data[['time']])\n",
    "# print(metro_data['time'].value_counts())\n",
    "# metro_data[]\n",
    "metro_data['day'] = pd.to_datetime(metro_data['date_time']).dt.day\n",
    "metro_data['month'] = pd.to_datetime(metro_data['date_time']).dt.month\n",
    "metro_data['year'] = pd.to_datetime(metro_data['date_time']).dt.year\n",
    "metro_data.drop('date_time', axis=1)\n",
    "\n",
    "# print(metro_data)\n",
    "metro_data = metro_data[['traffic_volume',\n",
    "                        'holiday',\n",
    "                        'temp', #this one\n",
    "                        'rain_1h', #this one\n",
    "                        'snow_1h', #this one\n",
    "                        'clouds_all',\n",
    "                        'weather_main',\n",
    "                        'weather_description',\n",
    "                        'day',\n",
    "                        'month',\n",
    "                        'year',\n",
    "                        'time']]\n",
    "# print(metro_data)\n",
    "npdata = metro_data.to_numpy()\n",
    "rng1 = np.random.default_rng(12345)\n",
    "npdata = rng1.choice(npdata, 500)\n",
    "print(npdata)"
   ],
   "metadata": {
    "collapsed": false,
    "pycharm": {
     "name": "#%%\n",
     "is_executing": false
    }
   }
  },
  {
   "cell_type": "code",
   "execution_count": 8,
   "outputs": [
    {
     "name": "stdout",
     "text": [
      "0.0\n",
      "161.4133551724139\n",
      "0.0\n",
      "166.9711241379311\n",
      "161.41335517241387\n",
      "485.46069770114957\n",
      "780.0157862068967\n",
      "319.5658344827583\n",
      "780.0157862068966\n",
      "930.5702528735633\n",
      "0.0\n",
      "69326.12961954022\n",
      "243042.25299885063\n",
      "244488.01501609184\n",
      "273797.92611149425\n",
      "376868.52089999994\n",
      "311576.17900919536\n",
      "464376.60845287365\n",
      "397055.96010459773\n",
      "674811.5971528735\n",
      "0.0\n",
      "88797.78078735631\n",
      "153095.50886551724\n",
      "161134.9848149425\n",
      "160955.24248620687\n",
      "213238.6031080459\n",
      "194345.98158505742\n",
      "210425.86245977008\n",
      "250134.9710034483\n",
      "327920.0525942529\n",
      "0.0\n",
      "165974.61850574714\n",
      "211676.14161724134\n",
      "205808.2276574713\n",
      "263446.8116781609\n",
      "332321.0022482759\n",
      "323673.1185425287\n",
      "498980.2771620689\n",
      "316252.96496896556\n",
      "533910.2526908043\n",
      "0.0\n",
      "68019.08036206897\n",
      "109490.67755632185\n",
      "170060.4524494253\n",
      "131773.12067356324\n",
      "237996.89370344832\n",
      "185254.38879770113\n",
      "274297.22542298853\n",
      "278089.78974367806\n",
      "246977.52688505745\n",
      "0.0\n",
      "70177.20643218391\n",
      "223132.1461689655\n",
      "215552.1981436781\n",
      "226864.04512643671\n",
      "312608.16540229885\n",
      "276328.10106436786\n",
      "447842.2869436782\n",
      "420785.65842298855\n",
      "414565.9803678161\n",
      "0.0\n",
      "104636.90682758622\n",
      "180699.7902310345\n",
      "211252.38041494248\n",
      "238448.6950609196\n",
      "299228.3175781609\n",
      "172607.17248850572\n",
      "402779.3378712644\n",
      "354803.9776229885\n",
      "370813.1649218391\ndone\n"
     ],
     "output_type": "stream"
    }
   ],
   "source": [
    "random.seed(50)\n",
    "test_indices = np.unique(np.array([random.randint(0,npdata.shape[0]-1) for k in range(0,math.ceil(0.2*npdata.shape[0]))]))\n",
    "# print(test_indices)\n",
    "test_data = npdata[test_indices, :]\n",
    "test_X = test_data[:,1:]\n",
    "test_transformer = preprocessing.MinMaxScaler().fit(test_X)\n",
    "normalized_test_X = test_transformer.transform(test_X)\n",
    "real_mpg = test_data[:, 0]\n",
    "\n",
    "mu = 0\n",
    "variance = 0.001\n",
    "features = [[1], [2], [3], [1,2], [1,3], [2,3], [1,2,3]] \n",
    "percentages = np.arange(0,0.1,0.01)\n",
    "iterations = 100\n",
    "\n",
    "results = np.zeros([iterations, test_X.shape[0]])\n",
    "output_variances = np.zeros(percentages.size)\n",
    "plot_matrix = np.zeros([len(features), percentages.size])\n",
    "\n",
    "for j in range(0, len(features)):\n",
    "    k = 0\n",
    "    for percentage in percentages:\n",
    "        rng = np.random.default_rng(12345)\n",
    "        for i in range(0, iterations):\n",
    "            data = copy.deepcopy(npdata)\n",
    "            training_data = np.delete(data, test_indices, axis=0)\n",
    "            rows = training_data.shape[0]\n",
    "            noise_indices = rng.choice(rows-1, math.ceil(percentage*rows), replace=False)\n",
    "            training_X = training_data[:, 1:]\n",
    "            training_transformer = preprocessing.StandardScaler().fit(training_X)\n",
    "            normalized_training_X = training_transformer.transform(training_X)\n",
    "            for el in features[j]:\n",
    "                noises = rng.normal(mu, variance, noise_indices.shape)\n",
    "                normalized_training_X[noise_indices, el] += noises\n",
    "            training_y = training_data[:, 0]\n",
    "            ######################################################### LINEAR REGRESSION\n",
    "            # clf = linear_model.LinearRegression()\n",
    "            ######################################################### DECISION TREE\n",
    "            clf = tree.DecisionTreeRegressor(random_state=42)\n",
    "            ######################################################### NEURAL NET\n",
    "            # clf = neural_network.MLPRegressor(random_state=42, max_iter=500)\n",
    "            #########################################################\n",
    "            clf = clf.fit(normalized_training_X, training_y)\n",
    "            prediction_mpg = clf.predict(normalized_test_X)\n",
    "            results[i] = prediction_mpg\n",
    "        variances = np.array([np.var(results[:, k]) for k in range(0, results.shape[1])])\n",
    "        mean_output_variance = np.mean(variances)\n",
    "        print(mean_output_variance)\n",
    "        output_variances[k] = mean_output_variance\n",
    "        plot_matrix[j] = output_variances\n",
    "        k += 1\n",
    "# print(output_variances)\n",
    "print(\"done\")\n",
    "now = datetime.now()\n",
    "timestamp = datetime.timestamp(now)\n",
    "experiment_name = \"dec tree experiment smal\"\n",
    "path = '../results_quantitative/metro/'\n",
    "np.savetxt(path + experiment_name + str(timestamp) + '.csv', plot_matrix, delimiter=\",\")"
   ],
   "metadata": {
    "collapsed": false,
    "pycharm": {
     "name": "#%%\n",
     "is_executing": false
    }
   }
  },
  {
   "cell_type": "code",
   "execution_count": 9,
   "outputs": [
    {
     "data": {
      "text/plain": "<Figure size 432x288 with 1 Axes>",
      "image/png": "[encoded data removed]"
     },
     "metadata": {
      "needs_background": "light"
     },
     "output_type": "display_data"
    }
   ],
   "source": [
    "#Plot the outcomes\n",
    "t=0\n",
    "plot_matrix[:,1] = plot_matrix[:,2]\n",
    "for arr in plot_matrix:\n",
    "    plt.plot(percentages, arr, label=\"line \" + str(features[t]))\n",
    "    t+=1\n",
    "plt.xlabel('input variance')\n",
    "plt.ylabel('output variance')\n",
    "plt.legend()\n",
    "# plt.savefig(path + experiment_name + str(timestamp) + '.png')\n",
    "plt.show()\n"
   ],
   "metadata": {
    "collapsed": false,
    "pycharm": {
     "name": "#%%\n",
     "is_executing": false
    }
   }
  },
  {
   "cell_type": "code",
   "execution_count": 10,
   "outputs": [],
   "source": [
    "# random.seed(50)\n",
    "# test_indices = np.unique(np.array([random.randint(0,npdata.shape[0]-1) for k in range(0,1000)]))\n",
    "# # print(test_indices)\n",
    "# test_data = npdata[test_indices, :]\n",
    "# test_X = test_data[:,1:]\n",
    "# real_mpg = test_data[:, 0]\n",
    "# training_data = np.delete(npdata, test_indices, axis=0)\n",
    "# training_X = training_data[:, 1:]\n",
    "# training_y = training_data[:, 0]\n",
    "# # clf = linear_model.LinearRegression()\n",
    "# # clf = tree.DecisionTreeRegressor(random_state=42)\n",
    "# clf = neural_network.MLPRegressor(random_state=42, max_iter=500)\n",
    "# clf = clf.fit(training_X, training_y)\n",
    "# prediction_mpg = clf.predict(test_X)\n",
    "# print(prediction_mpg-real_mpg)\n",
    "\n"
   ],
   "metadata": {
    "collapsed": false,
    "pycharm": {
     "name": "#%%\n",
     "is_executing": false
    }
   }
  }
 ],
 "metadata": {
  "kernelspec": {
   "display_name": "Python 3",
   "language": "python",
   "name": "python3"
  },
  "language_info": {
   "codemirror_mode": {
    "name": "ipython",
    "version": 2
   },
   "file_extension": ".py",
   "mimetype": "text/x-python",
   "name": "python",
   "nbconvert_exporter": "python",
   "pygments_lexer": "ipython2",
   "version": "2.7.6"
  },
  "pycharm": {
   "stem_cell": {
    "cell_type": "raw",
    "source": [],
    "metadata": {
     "collapsed": false
    }
   }
  }
 },
 "nbformat": 4,
 "nbformat_minor": 0
}