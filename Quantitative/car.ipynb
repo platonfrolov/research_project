{
 "cells": [
  {
   "cell_type": "code",
   "execution_count": 12,
   "metadata": {
    "collapsed": true,
    "pycharm": {
     "is_executing": false
    }
   },
   "outputs": [],
   "source": []
  },
  {
   "cell_type": "code",
   "execution_count": 13,
   "outputs": [],
   "source": [
    "def warn(*args, **kwargs):\n",
    "    pass\n",
    "import warnings\n",
    "warnings.warn = warn\n",
    "\n",
    "import pandas as pd\n",
    "from sklearn import linear_model, tree, neural_network, preprocessing\n",
    "import numpy as np\n",
    "import random\n",
    "import os\n",
    "import copy\n",
    "import math\n",
    "from matplotlib import pyplot as plt\n",
    "from datetime import datetime\n",
    "from itertools import combinations"
   ],
   "metadata": {
    "collapsed": false,
    "pycharm": {
     "name": "#%%\n",
     "is_executing": false
    }
   }
  },
  {
   "cell_type": "code",
   "execution_count": 14,
   "outputs": [
    {
     "name": "stdout",
     "text": [
      "        0    1      2      3       4     5     6    7\n0    18.0  8.0  307.0  130.0  3504.0  12.0  70.0  1.0\n1    15.0  8.0  350.0  165.0  3693.0  11.5  70.0  1.0\n2    18.0  8.0  318.0  150.0  3436.0  11.0  70.0  1.0\n3    16.0  8.0  304.0  150.0  3433.0  12.0  70.0  1.0\n4    17.0  8.0  302.0  140.0  3449.0  10.5  70.0  1.0\n..    ...  ...    ...    ...     ...   ...   ...  ...\n387  27.0  4.0  140.0   86.0  2790.0  15.6  82.0  1.0\n388  44.0  4.0   97.0   52.0  2130.0  24.6  82.0  2.0\n389  32.0  4.0  135.0   84.0  2295.0  11.6  82.0  1.0\n390  28.0  4.0  120.0   79.0  2625.0  18.6  82.0  1.0\n391  31.0  4.0  119.0   82.0  2720.0  19.4  82.0  1.0\n\n[392 rows x 8 columns]\n"
     ],
     "output_type": "stream"
    }
   ],
   "source": [
    "#Import the data set and remove the rows with missing values\n",
    "car_data = pd.read_table('../datasets/car/car-original.data', header=None, delim_whitespace=True)\n",
    "df = car_data.apply (pd.to_numeric, errors='coerce')\n",
    "print(df)\n",
    "clean_data = df = df.dropna()\n",
    "clean_data.reset_index(drop=True)\n",
    "npdata = clean_data.to_numpy()\n"
   ],
   "metadata": {
    "collapsed": false,
    "pycharm": {
     "name": "#%%\n",
     "is_executing": false
    }
   }
  },
  {
   "cell_type": "code",
   "execution_count": 15,
   "outputs": [],
   "source": [
    "# print(npdata)"
   ],
   "metadata": {
    "collapsed": false,
    "pycharm": {
     "name": "#%%\n",
     "is_executing": false
    }
   }
  },
  {
   "cell_type": "code",
   "execution_count": 16,
   "outputs": [
    {
     "name": "stdout",
     "text": [
      "9.179472351662683e-30\n0.012725787878787857\n",
      "0.06817112121212117\n",
      "0.05584398484848479\n0.1035998181818181\n",
      "0.11129274242424236\n0.1461574999999999\n",
      "0.10798999999999993\n",
      "0.13414521212121208\n",
      "0.18240284848484842\n",
      "9.179472351662683e-30\n0.0174357121212121",
      "\n",
      "0.02626857575757572\n",
      "0.042253893939393876\n0.05081045454545449\n",
      "0.051355348484848434\n0.07891812121212115\n",
      "0.058195348484848426\n",
      "0.05373495454545448\n0.07224769696969689\n",
      "9.179472351662683e-30\n2.375757575757474e-05\n",
      "0.0024647878787878727\n",
      "0.0037582272727272647\n0.00603313636363635\n",
      "0.00926216666666665\n0.008366848484848463",
      "\n",
      "0.008373848484848467\n",
      "0.007258287878787863\n",
      "0.014319681818181787\n",
      "9.179472351662683e-30\n",
      "0.0539959242424242\n",
      "0.06842510606060602\n",
      "0.1027456969696969\n",
      "0.10291716666666663\n",
      "0.1665309848484848\n",
      "0.12432306060606056\n0.1402682272727272\n",
      "0.17287636363636358\n0.16644415151515146\n",
      "9.179472351662683e-30\n",
      "0.022931303030303003\n",
      "0.04414492424242422\n",
      "0.08587878787878785\n0.06396551515151508\n",
      "0.08278077272727269\n0.10210454545454539\n",
      "0.12604440909090905\n",
      "0.14791351515151507\n",
      "0.1492595454545454\n",
      "9.179472351662683e-30\n",
      "0.02840553030303027\n",
      "0.04139986363636359\n",
      "0.06478218181818175\n",
      "0.0478655454545454\n",
      "0.05915925757575752\n",
      "0.07668709090909084\n",
      "0.20022499999999993\n",
      "0.08955907575757568\n",
      "0.07561315151515145\n",
      "9.179472351662683e-30\n",
      "0.04153778787878783\n",
      "0.07934896969696963\n",
      "0.09477239393939389\n",
      "0.1433205303030303\n0.10834290909090903\n",
      "0.1305381212121212\n0.21637681818181811\n",
      "0.19182065151515146\n",
      "0.20593078787878782\ndone\n"
     ],
     "output_type": "stream"
    }
   ],
   "source": [
    "#define the test indices and define the test data. This data remains untouched\n",
    "random.seed(50)\n",
    "test_indices = np.unique(np.array([random.randint(0,npdata.shape[0]-1) for k in range(0,math.ceil(0.2*npdata.shape[0]))]))\n",
    "test_data = npdata[test_indices, :]\n",
    "test_X = test_data[:,1:]\n",
    "test_transformer = preprocessing.MinMaxScaler().fit(test_X)\n",
    "normalized_test_X = test_transformer.transform(test_X)\n",
    "real_mpg = test_data[:, 0]\n",
    "\n",
    "\n",
    "\n",
    "#set up iteration variables and parameters\n",
    "mu = 0\n",
    "variance = 0.001\n",
    "#hp = 1st column, weight = 2nd column, acceleration = 3rd column\n",
    "features = [[1], [2], [3], [1,2], [1,3], [2,3], [1,2,3]] \n",
    "percentages = np.arange(0,0.1,0.01)\n",
    "iterations = 100\n",
    "\n",
    "\n",
    "#set up arrays for the results of the models\n",
    "results = np.zeros([iterations, test_X.shape[0]])\n",
    "output_variances = np.zeros(percentages.size)\n",
    "plot_matrix = np.zeros([len(features), percentages.size])\n",
    "\n",
    "for j in range(0, len(features)):\n",
    "    k = 0\n",
    "    for percentage in percentages:\n",
    "        rng = np.random.default_rng(12345)\n",
    "        for i in range(0, iterations):\n",
    "            data = copy.deepcopy(npdata)\n",
    "            training_data = np.delete(data, test_indices, axis=0)\n",
    "            rows = training_data.shape[0]\n",
    "            noise_indices = rng.choice(rows-1, math.ceil(percentage*rows), replace=False)\n",
    "            training_X = training_data[:, 1:]\n",
    "            training_transformer = preprocessing.StandardScaler().fit(training_X)\n",
    "            normalized_training_X = training_transformer.transform(training_X)\n",
    "            for el in features[j]:\n",
    "                noises = rng.normal(mu, variance, noise_indices.shape)\n",
    "                normalized_training_X[noise_indices, el] += noises\n",
    "            training_y = training_data[:, 0]\n",
    "            ######################################################### LINEAR REGRESSION\n",
    "            # clf = linear_model.LinearRegression()\n",
    "            ######################################################### DECISION TREE\n",
    "            clf = tree.DecisionTreeRegressor(random_state=42)\n",
    "            ######################################################### NEURAL NET\n",
    "            # clf = neural_network.MLPRegressor(random_state=42, max_iter=200)\n",
    "            #########################################################\n",
    "            clf = clf.fit(normalized_training_X, training_y)\n",
    "            prediction_mpg = clf.predict(normalized_test_X)\n",
    "            results[i] = prediction_mpg\n",
    "        variances = np.array([np.var(results[:, k]) for k in range(0, results.shape[1])])\n",
    "        mean_output_variance = np.mean(variances)\n",
    "        print(mean_output_variance)\n",
    "        output_variances[k] = mean_output_variance\n",
    "        plot_matrix[j] = output_variances\n",
    "        k += 1\n",
    "# print(output_variances)\n",
    "print(\"done\")\n",
    "now = datetime.now()\n",
    "timestamp = datetime.timestamp(now)\n",
    "experiment_name = \"FINAL CAR\"\n",
    "path = '../results_quantitative/car/'\n",
    "np.savetxt(path + experiment_name + str(timestamp) + '.csv', plot_matrix, delimiter=\",\")"
   ],
   "metadata": {
    "collapsed": false,
    "pycharm": {
     "name": "#%%\n",
     "is_executing": false
    }
   }
  },
  {
   "cell_type": "code",
   "execution_count": 17,
   "outputs": [
    {
     "data": {
      "text/plain": "<Figure size 432x288 with 1 Axes>",
      "image/png": "[encoded data removed]"
     },
     "metadata": {
      "needs_background": "light"
     },
     "output_type": "display_data"
    }
   ],
   "source": [
    "\n",
    "#Plot the outcomes\n",
    "t=0\n",
    "for arr in plot_matrix:\n",
    "    plt.plot(percentages, arr, label=\"line \" + str(features[t]))\n",
    "    t+=1\n",
    "plt.xlabel('input variance')\n",
    "plt.ylabel('output variance')\n",
    "plt.legend()\n",
    "plt.savefig(path + experiment_name + str(timestamp) + '.png')\n",
    "plt.show()"
   ],
   "metadata": {
    "collapsed": false,
    "pycharm": {
     "name": "#%%\n",
     "is_executing": false
    }
   }
  },
  {
   "cell_type": "code",
   "execution_count": 18,
   "outputs": [],
   "source": [
    "now = datetime.now()\n",
    "timestamp = datetime.timestamp(now)\n",
    "\n",
    "\n",
    "\n"
   ],
   "metadata": {
    "collapsed": false,
    "pycharm": {
     "name": "#%%\n",
     "is_executing": false
    }
   }
  }
 ],
 "metadata": {
  "kernelspec": {
   "display_name": "Python 3",
   "language": "python",
   "name": "python3"
  },
  "language_info": {
   "codemirror_mode": {
    "name": "ipython",
    "version": 2
   },
   "file_extension": ".py",
   "mimetype": "text/x-python",
   "name": "python",
   "nbconvert_exporter": "python",
   "pygments_lexer": "ipython2",
   "version": "2.7.6"
  },
  "pycharm": {
   "stem_cell": {
    "cell_type": "raw",
    "source": [],
    "metadata": {
     "collapsed": false
    }
   }
  }
 },
 "nbformat": 4,
 "nbformat_minor": 0
}