{
 "cells": [
  {
   "cell_type": "code",
   "execution_count": 158,
   "outputs": [],
   "source": [
    "import pandas as pd\n",
    "from sklearn import tree\n",
    "import numpy as np\n",
    "import random\n",
    "import os\n",
    "import copy\n",
    "import math"
   ],
   "metadata": {
    "collapsed": false,
    "pycharm": {
     "name": "#%%\n",
     "is_executing": false
    }
   }
  },
  {
   "cell_type": "code",
   "execution_count": 160,
   "outputs": [
    {
     "name": "stdout",
     "text": [
      "        0    1      2      3       4     5     6    7\n0    18.0  8.0  307.0  130.0  3504.0  12.0  70.0  1.0\n1    15.0  8.0  350.0  165.0  3693.0  11.5  70.0  1.0\n2    18.0  8.0  318.0  150.0  3436.0  11.0  70.0  1.0\n3    16.0  8.0  304.0  150.0  3433.0  12.0  70.0  1.0\n4    17.0  8.0  302.0  140.0  3449.0  10.5  70.0  1.0\n..    ...  ...    ...    ...     ...   ...   ...  ...\n387  27.0  4.0  140.0   86.0  2790.0  15.6  82.0  1.0\n388  44.0  4.0   97.0   52.0  2130.0  24.6  82.0  2.0\n389  32.0  4.0  135.0   84.0  2295.0  11.6  82.0  1.0\n390  28.0  4.0  120.0   79.0  2625.0  18.6  82.0  1.0\n391  31.0  4.0  119.0   82.0  2720.0  19.4  82.0  1.0\n\n[392 rows x 8 columns]\n"
     ],
     "output_type": "stream"
    }
   ],
   "source": [
    "#Import the data set and remove the rows with missing values\n",
    "car_data = pd.read_table('datasets/car/car-original.data', header=None, delim_whitespace=True)\n",
    "df = car_data.apply (pd.to_numeric, errors='coerce')\n",
    "print(df)\n",
    "clean_data = df = df.dropna()\n",
    "clean_data.reset_index(drop=True)\n",
    "npdata = clean_data.to_numpy()\n"
   ],
   "metadata": {
    "collapsed": false,
    "pycharm": {
     "name": "#%%\n",
     "is_executing": false
    }
   }
  },
  {
   "cell_type": "code",
   "execution_count": 376,
   "outputs": [],
   "source": [
    "# print(real_mpg)\n",
    "random.seed(50)\n",
    "test_indices = np.unique(np.array([random.randint(0,npdata.shape[0]-1) for k in range(0,30)]))\n",
    "# print(test_indices)\n",
    "test_data = npdata[test_indices, :]\n",
    "test_X = test_data[:,1:]\n",
    "real_mpg = test_data[:, 0]\n",
    "\n",
    "mu = 0\n",
    "sd = 100\n",
    "rng = np.random.default_rng(12345)\n",
    "iterations = 100\n",
    "results = np.empty([iterations, test_X.shape[0]])\n",
    "for i in range(0, iterations):\n",
    "    data = copy.deepcopy(npdata)\n",
    "    training_data = np.delete(data, test_indices, axis=0)\n",
    "    rows = training_data.shape[0]\n",
    "    noise_indices = rng.choice(rows-1, math.ceil(0.1*rows), replace=False)\n",
    "    noises = rng.normal(mu, sd,noise_indices.shape)\n",
    "    training_data[noise_indices, 2] += noises\n",
    "    training_X = training_data[:, 1:]\n",
    "    training_y = training_data[:, 0]\n",
    "    clf = tree.DecisionTreeRegressor(random_state=42)\n",
    "    clf = clf.fit(training_X, training_y)\n",
    "    prediction_mpg = clf.predict(test_X)\n",
    "    results[i] = prediction_mpg"
   ],
   "metadata": {
    "collapsed": false,
    "pycharm": {
     "name": "#%%\n",
     "is_executing": false
    }
   }
  },
  {
   "cell_type": "code",
   "execution_count": 396,
   "outputs": [
    {
     "name": "stdout",
     "text": [
      "[0.1875   0.6075   0.3504   0.2475   0.5904   3.837475 0.2926   1.04\n 0.1019   2.410676 1.0659   0.666875 6.556875 0.8869   1.4096   1.114475\n 2.411059 5.724156 1.047604 3.090299 4.673144 2.972136 0.499884 6.309139\n 4.764675 3.890291 5.095139]\n2.290522296296296\n"
     ],
     "output_type": "stream"
    }
   ],
   "source": [
    "variances = np.array([np.var(results[:, k]) for k in range(0, results.shape[1])])\n",
    "print(variances)\n",
    "print(np.mean(variances))"
   ],
   "metadata": {
    "collapsed": false,
    "pycharm": {
     "name": "#%%\n",
     "is_executing": false
    }
   }
  }
 ],
 "metadata": {
  "kernelspec": {
   "display_name": "Python 3",
   "language": "python",
   "name": "python3"
  },
  "language_info": {
   "codemirror_mode": {
    "name": "ipython",
    "version": 2
   },
   "file_extension": ".py",
   "mimetype": "text/x-python",
   "name": "python",
   "nbconvert_exporter": "python",
   "pygments_lexer": "ipython2",
   "version": "2.7.6"
  },
  "pycharm": {
   "stem_cell": {
    "cell_type": "raw",
    "source": [],
    "metadata": {
     "collapsed": false
    }
   }
  }
 },
 "nbformat": 4,
 "nbformat_minor": 0
}