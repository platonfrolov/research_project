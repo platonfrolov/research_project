{
 "cells": [
  {
   "cell_type": "code",
   "execution_count": 1,
   "metadata": {
    "collapsed": true,
    "pycharm": {
     "is_executing": false
    }
   },
   "outputs": [],
   "source": [
    "import pandas as pd\n",
    "from sklearn import linear_model, tree, neural_network, preprocessing\n",
    "import numpy as np\n",
    "import random\n",
    "import os\n",
    "import copy\n",
    "import math\n",
    "from matplotlib import pyplot as plt\n",
    "from datetime import datetime\n",
    "from itertools import combinations"
   ]
  },
  {
   "cell_type": "code",
   "execution_count": 2,
   "outputs": [
    {
     "name": "stdout",
     "text": [
      "        0    1      2      3       4     5     6    7\n0    18.0  8.0  307.0  130.0  3504.0  12.0  70.0  1.0\n1    15.0  8.0  350.0  165.0  3693.0  11.5  70.0  1.0\n2    18.0  8.0  318.0  150.0  3436.0  11.0  70.0  1.0\n3    16.0  8.0  304.0  150.0  3433.0  12.0  70.0  1.0\n4    17.0  8.0  302.0  140.0  3449.0  10.5  70.0  1.0\n..    ...  ...    ...    ...     ...   ...   ...  ...\n387  27.0  4.0  140.0   86.0  2790.0  15.6  82.0  1.0\n388  44.0  4.0   97.0   52.0  2130.0  24.6  82.0  2.0\n389  32.0  4.0  135.0   84.0  2295.0  11.6  82.0  1.0\n390  28.0  4.0  120.0   79.0  2625.0  18.6  82.0  1.0\n391  31.0  4.0  119.0   82.0  2720.0  19.4  82.0  1.0\n\n[392 rows x 8 columns]\n"
     ],
     "output_type": "stream"
    }
   ],
   "source": [
    "#Import the data set and remove the rows with missing values\n",
    "car_data = pd.read_table('datasets/car/car-original.data', header=None, delim_whitespace=True)\n",
    "df = car_data.apply (pd.to_numeric, errors='coerce')\n",
    "print(df)\n",
    "clean_data = df = df.dropna()\n",
    "clean_data.reset_index(drop=True)\n",
    "npdata = clean_data.to_numpy()"
   ],
   "metadata": {
    "collapsed": false,
    "pycharm": {
     "name": "#%%\n",
     "is_executing": false
    }
   }
  },
  {
   "cell_type": "code",
   "execution_count": 9,
   "outputs": [
    {
     "name": "stdout",
     "text": [
      "[ 8.48942738e+00  5.85111617e+00  6.71744178e+00  5.82914357e+00\n  3.13596925e+00  3.07922831e+00  5.38810088e+00  6.00132680e+00\n  3.31478165e+00  2.58370918e+00  3.02138127e+00  2.25729175e+00\n -7.76916841e-01  2.51251955e+00  1.59049577e+00 -1.44365852e+00\n -8.57036770e+00  3.54736133e+00  2.48595980e+00  2.67097073e+00\n  2.25566952e+00  3.93292728e-01 -9.73459477e-01 -5.30946243e+00\n  3.73274151e+00  4.93722083e+00  6.61229886e-01 -4.41292464e+00\n  3.20701880e-01 -5.19240160e-01  9.67501391e-01 -2.54271415e-01\n  2.05972909e+00  2.10447127e+00  1.78559301e+00 -2.97843530e+00\n -1.85906609e+00 -2.95018181e+00  6.47331899e+00  1.06981851e+01\n -9.84800057e-01 -2.27228010e+00  5.40433505e+00 -5.91333581e+00\n -6.33743359e+00 -8.48125739e+00  2.37196081e-01 -9.19221811e-01\n  2.01343176e+00  2.98234751e+00 -6.58307815e+00  6.27011642e+00\n  2.49364416e+00 -2.44178877e-01  1.16263916e+01  5.19948254e+00\n -2.33564867e+00  5.12525071e-03 -5.01753340e-01  8.55295090e+00\n  3.65680989e+00 -3.59017156e+00 -4.24522461e+00 -3.90976016e+00\n -9.24111127e-01  5.54792634e+00]\n"
     ],
     "output_type": "stream"
    },
    {
     "name": "stderr",
     "text": [
      "c:\\users\\plfro\\pycharmprojects\\research project\\venv\\lib\\site-packages\\sklearn\\neural_network\\_multilayer_perceptron.py:617: ConvergenceWarning: Stochastic Optimizer: Maximum iterations (500) reached and the optimization hasn't converged yet.\n  % self.max_iter, ConvergenceWarning)\n"
     ],
     "output_type": "stream"
    }
   ],
   "source": [
    "#define the test indices and define the test data. This data remains untouched\n",
    "random.seed(50)\n",
    "test_indices = np.unique(np.array([random.randint(0,npdata.shape[0]-1) for k in range(0,math.ceil(0.2*npdata.shape[0]))]))\n",
    "# print(test_indices)\n",
    "test_data = npdata[test_indices, :]\n",
    "real_mpg = test_data[:, 0]\n",
    "test_X = test_data[:,1:]\n",
    "test_transformer = preprocessing.MinMaxScaler().fit(test_X)\n",
    "normalized_test_X = test_transformer.transform(test_X)\n",
    "\n",
    "training_data = np.delete(npdata, test_indices, axis=0)\n",
    "training_y = training_data[:, 0]\n",
    "training_X = training_data[:, 1:]\n",
    "training_transformer = preprocessing.MinMaxScaler().fit(training_X)\n",
    "normalized_training_X = training_transformer.transform(training_X)\n",
    "# clf = linear_model.LinearRegression()\n",
    "# clf = tree.DecisionTreeRegressor(random_state=42)\n",
    "clf = neural_network.MLPRegressor(random_state=42, max_iter=500)\n",
    "clf = clf.fit(normalized_training_X, training_y)\n",
    "prediction_mpg = clf.predict(normalized_test_X)\n",
    "print(real_mpg - prediction_mpg)\n"
   ],
   "metadata": {
    "collapsed": false,
    "pycharm": {
     "name": "#%%\n",
     "is_executing": false
    }
   }
  }
 ],
 "metadata": {
  "kernelspec": {
   "display_name": "Python 3",
   "language": "python",
   "name": "python3"
  },
  "language_info": {
   "codemirror_mode": {
    "name": "ipython",
    "version": 2
   },
   "file_extension": ".py",
   "mimetype": "text/x-python",
   "name": "python",
   "nbconvert_exporter": "python",
   "pygments_lexer": "ipython2",
   "version": "2.7.6"
  },
  "pycharm": {
   "stem_cell": {
    "cell_type": "raw",
    "source": [],
    "metadata": {
     "collapsed": false
    }
   }
  }
 },
 "nbformat": 4,
 "nbformat_minor": 0
}